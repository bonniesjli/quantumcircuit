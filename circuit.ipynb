{
 "cells": [
  {
   "cell_type": "code",
   "execution_count": 1,
   "metadata": {},
   "outputs": [],
   "source": [
    "import pennylane as qml\n",
    "import numpy as np\n",
    "import torch\n",
    "from torch.autograd import Variable\n",
    "np.random.seed(42)"
   ]
  },
  {
   "cell_type": "code",
   "execution_count": 2,
   "metadata": {},
   "outputs": [],
   "source": [
    "dev = qml.device(\"default.qubit\", wires=4)"
   ]
  },
  {
   "cell_type": "markdown",
   "metadata": {},
   "source": [
    "### Constructing  Quantum Circuit"
   ]
  },
  {
   "cell_type": "code",
   "execution_count": 33,
   "metadata": {},
   "outputs": [],
   "source": [
    "def quantum_state(x):\n",
    "    # initializing the quantum state with given angles of the 4 qubits\n",
    "    # input x: array (4, 3)\n",
    "    for i in range(nr_qubits):\n",
    "        qml.RX(x[i, 0], wires=i)\n",
    "        qml.RY(x[i, 1], wires=i)\n",
    "        qml.RZ(x[i, 2], wires=i)\n",
    "\n",
    "# number of qubits in the circuit\n",
    "nr_qubits = 4\n",
    "# number of layers in the circuit\n",
    "nr_layers = 5\n",
    "\n",
    "# randomly initialize parameters from a normal distribution\n",
    "params = np.random.normal(0, np.pi, (nr_qubits, nr_layers, 3))\n",
    "params = Variable(torch.tensor(params), requires_grad=True)\n",
    "\n",
    "# a layer of the circuit ansatz\n",
    "def layer(params, j):\n",
    "    for i in range(nr_qubits):\n",
    "        qml.RX(params[i, j, 0], wires=i)\n",
    "        qml.RY(params[i, j, 1], wires=i)\n",
    "        qml.RZ(params[i, j, 2], wires=i)\n",
    "\n",
    "    qml.CNOT(wires=[0, 1])\n",
    "    qml.CNOT(wires=[0, 2])\n",
    "    qml.CNOT(wires=[0, 3])\n",
    "    qml.CNOT(wires=[1, 2])\n",
    "    qml.CNOT(wires=[1, 3])\n",
    "    qml.CNOT(wires=[2, 3])\n",
    "    \n",
    "    \n",
    "@qml.qnode(dev, interface=\"torch\")\n",
    "def circuit(params, angles):\n",
    "    \n",
    "    quantum_state(angles)\n",
    "    \n",
    "    # repeatedly apply each layer in the circuit\n",
    "    for j in range(nr_layers):\n",
    "        layer(params, j)\n",
    "\n",
    "    # returns the expectation of the input matrix A on the first qubit\n",
    "    return [qml.expval(qml.PauliZ(wire_n)) for wire_n in range(4)]"
   ]
  },
  {
   "cell_type": "markdown",
   "metadata": {},
   "source": [
    "### Input: 4 random 4-qubit quantum states\n",
    "We generate 4 randomly generated vectors of rotation angles (in radian) each of which defines a random 4-qubit quantum states."
   ]
  },
  {
   "cell_type": "code",
   "execution_count": 4,
   "metadata": {},
   "outputs": [
    {
     "name": "stdout",
     "output_type": "stream",
     "text": [
      "input random state\n",
      "[[[-1.50537027 -0.58326488 -3.47565383]\n",
      "  [-3.75799394  2.55262515  4.26075371]\n",
      "  [-0.22622647  3.15269158  1.13611308]\n",
      "  [-2.02670348  1.13535778  4.83188438]]\n",
      "\n",
      " [[-0.11255082  4.91547301 -8.23017197]\n",
      "  [ 2.58208287  0.27346643 -0.9393593 ]\n",
      "  [ 0.28827498 -6.2441319  -0.69011959]\n",
      "  [ 1.12190223  4.64294107 -1.62819391]]\n",
      "\n",
      " [[-2.53995756 -1.57631624  2.87582057]\n",
      "  [ 1.03280207 -1.66429076  1.6124772 ]\n",
      "  [ 0.30497812  3.04308799 -2.20556484]\n",
      "  [-1.02938099 -1.23184409 -4.59776781]]\n",
      "\n",
      " [[ 0.93028929  0.82012933  0.0160644 ]\n",
      "  [-0.73697721 -4.44651833 -1.32149626]\n",
      "  [-1.07666941 -2.52042838 -0.50669401]\n",
      "  [ 1.2693632   5.92562777  0.54845237]]]\n"
     ]
    }
   ],
   "source": [
    "x = np.random.normal(0, np.pi, (4, nr_qubits, 3))\n",
    "\n",
    "print (\"input random state\")\n",
    "print (x)"
   ]
  },
  {
   "cell_type": "markdown",
   "metadata": {},
   "source": [
    "### Cost function\n",
    "\n",
    "We want to define a cost function such that by minimizing the cost function, the optimizer will find circuit parameter that best maps the predefined input to the predefined output.\n",
    "\n",
    "Mapping the input to state |0> is equivalent to measuring a Pauli-Z expectation value of 1, since state |0> is an eightvector of the Pauli-Z matrix with eigenvalue $\\lambda = 1$. State |1> us also an eigenvector of Pauli-Z matrix with eigenvalue  $\\lambda = -1$.\n",
    "\n",
    "Here, our desired outcome for each qubit is either |0> or |1>, which is equivalent to measuring Pauli-Z value of 1 and -1 respectively. Since the Pauli-Z expecttion is bound between [-1, 1], we can define our cost function as such\n",
    "\n",
    "$$\n",
    "C = \\sum_{\\phi_i'=|1>}{\\sigma_z\\phi_i} - \\sum_{\\phi_i'=|0>}{\\sigma_z\\phi_i}\n",
    "$$\n",
    "\n",
    "where $\\phi_i'$ is the target outcome of $\\phi_i'$. That is, if the target outcome of a qubit is |1>, we want to minimize its Pauli-Z expectation hence adding it to the cost function, and if the target outcome of a qubit is |0>, we want to maximize its Pauli-Z expectation hence substracting it from the cost function."
   ]
  },
  {
   "cell_type": "code",
   "execution_count": 34,
   "metadata": {},
   "outputs": [],
   "source": [
    "target = [[0, 0, 1, 1],\n",
    "          [0, 1, 0, 1],\n",
    "          [1, 0, 1, 0],\n",
    "          [1, 1, 0, 0]]\n",
    "\n",
    "# Coefficient for cost function\n",
    "# put -1 if position in target is 0, 1 if position in target is 1.\n",
    "coef =   [[-1, -1, 1, 1],\n",
    "          [-1, 1, -1, 1],\n",
    "          [1, -1, 1, -1],\n",
    "          [1, 1, -1, -1]]\n",
    "\n",
    "\n",
    "def cost_fn(params):\n",
    "    cost = 0\n",
    "    for i in range(4):\n",
    "        angles = x[i]\n",
    "        out = circuit(params, angles)\n",
    "        for j in range(nr_qubits):\n",
    "            cost += coef[i][j] * out[j]\n",
    "    return cost"
   ]
  },
  {
   "cell_type": "markdown",
   "metadata": {},
   "source": [
    "Looking at the initial circuit output - the Pauli-Z expectation of each qubit, as well as the intial loss/cost without training."
   ]
  },
  {
   "cell_type": "code",
   "execution_count": 37,
   "metadata": {},
   "outputs": [
    {
     "name": "stdout",
     "output_type": "stream",
     "text": [
      "out 0:tensor([-0.0879,  0.4145,  0.2773,  0.1113], dtype=torch.float64,\n",
      "       grad_fn=<CatBackward>)\n",
      "out 1:tensor([ 0.1881, -0.0878, -0.4159,  0.0567], dtype=torch.float64,\n",
      "       grad_fn=<CatBackward>)\n",
      "out 2:tensor([0.0950, 0.1678, 0.2864, 0.1514], dtype=torch.float64,\n",
      "       grad_fn=<CatBackward>)\n",
      "out 3:tensor([-0.4898,  0.2625, -0.0194,  0.1909], dtype=torch.float64,\n",
      "       grad_fn=<CatBackward>)\n",
      "initial cost:  tensor(-0.0778, dtype=torch.float64, grad_fn=<AddBackward0>)\n"
     ]
    }
   ],
   "source": [
    "cost = 0\n",
    "for i in range(4):\n",
    "    angles = x[i]\n",
    "    out = circuit(params, angles)\n",
    "#     print (\"angle & output\", angles, out)\n",
    "    print (\"out {}:{}\".format(i, out))\n",
    "    for j in range(nr_qubits):\n",
    "        cost += coef[i][j] * out[j]\n",
    "\n",
    "print (\"initial cost: \", cost)"
   ]
  },
  {
   "cell_type": "markdown",
   "metadata": {},
   "source": [
    "### Optimization\n",
    "In this case, for each input 4-qubit quantum state a \"perfect\" circuit would have a cost/loss of -4. We sum up the loss for all 4 quantum states, so here a \"perfect\" loss would be -16."
   ]
  },
  {
   "cell_type": "code",
   "execution_count": 38,
   "metadata": {},
   "outputs": [
    {
     "name": "stdout",
     "output_type": "stream",
     "text": [
      "Cost after 0 steps is -0.0778\n",
      "Cost after 10 steps is -7.1160\n",
      "Cost after 20 steps is -10.6308\n",
      "Cost after 30 steps is -12.0447\n",
      "Cost after 40 steps is -12.6609\n",
      "Cost after 50 steps is -13.0247\n",
      "Cost after 60 steps is -13.2961\n",
      "Cost after 70 steps is -13.3702\n",
      "Cost after 80 steps is -13.4371\n",
      "Cost after 90 steps is -13.5017\n",
      "Cost after 100 steps is -13.6009\n",
      "Cost after 110 steps is -13.7814\n",
      "Cost after 120 steps is -14.0335\n",
      "Cost after 130 steps is -14.2400\n",
      "Cost after 140 steps is -14.4581\n",
      "Cost after 150 steps is -14.5351\n",
      "Cost after 160 steps is -14.5509\n",
      "Cost after 170 steps is -14.5644\n",
      "Cost after 180 steps is -14.5925\n",
      "Cost after 190 steps is -14.6217\n",
      "Cost after 200 steps is -14.6341\n"
     ]
    }
   ],
   "source": [
    "# set up the optimizer\n",
    "opt = torch.optim.Adam([params], lr=0.1)\n",
    "\n",
    "# number of steps in the optimization routine\n",
    "steps = 200\n",
    "\n",
    "# the final stage of optimization isn't always the best, so we keep track of\n",
    "# the best parameters along the way\n",
    "best_cost = cost_fn(params)\n",
    "best_params = np.zeros((nr_qubits, nr_layers, 3))\n",
    "\n",
    "print(\"Cost after 0 steps is {:.4f}\".format(cost_fn(params)))\n",
    "\n",
    "# optimization begins\n",
    "for n in range(steps):\n",
    "    opt.zero_grad()\n",
    "    loss = cost_fn(params)\n",
    "    loss.backward()\n",
    "    opt.step()\n",
    "\n",
    "    # keeps track of best parameters\n",
    "    if loss < best_cost:\n",
    "        best_cost = loss\n",
    "        best_params = params\n",
    "\n",
    "    # Keep track of progress every 10 steps\n",
    "    if n % 10 == 9 or n == steps - 1:\n",
    "        print(\"Cost after {} steps is {:.4f}\".format(n + 1, loss))"
   ]
  },
  {
   "cell_type": "markdown",
   "metadata": {},
   "source": [
    "### Results and Output"
   ]
  },
  {
   "cell_type": "code",
   "execution_count": 29,
   "metadata": {},
   "outputs": [
    {
     "name": "stdout",
     "output_type": "stream",
     "text": [
      "input angles\n",
      "[[-1.50537027 -0.58326488 -3.47565383]\n",
      " [-3.75799394  2.55262515  4.26075371]\n",
      " [-0.22622647  3.15269158  1.13611308]\n",
      " [-2.02670348  1.13535778  4.83188438]]\n",
      "Pauli-Z expectation:  [ 0.95388904  0.96402192 -0.91100587 -0.9137813 ]\n",
      "observed:  [0, 0, 1, 1] \n",
      "\n",
      "input angles\n",
      "[[-0.11255082  4.91547301 -8.23017197]\n",
      " [ 2.58208287  0.27346643 -0.9393593 ]\n",
      " [ 0.28827498 -6.2441319  -0.69011959]\n",
      " [ 1.12190223  4.64294107 -1.62819391]]\n",
      "Pauli-Z expectation:  [ 0.96975936 -0.98131208  0.93156533 -0.96714859]\n",
      "observed:  [0, 1, 0, 1] \n",
      "\n",
      "input angles\n",
      "[[-2.53995756 -1.57631624  2.87582057]\n",
      " [ 1.03280207 -1.66429076  1.6124772 ]\n",
      " [ 0.30497812  3.04308799 -2.20556484]\n",
      " [-1.02938099 -1.23184409 -4.59776781]]\n",
      "Pauli-Z expectation:  [-0.96153854  0.82178274 -0.83231441  0.88203637]\n",
      "observed:  [1, 0, 1, 0] \n",
      "\n",
      "input angles\n",
      "[[ 0.93028929  0.82012933  0.0160644 ]\n",
      " [-0.73697721 -4.44651833 -1.32149626]\n",
      " [-1.07666941 -2.52042838 -0.50669401]\n",
      " [ 1.2693632   5.92562777  0.54845237]]\n",
      "Pauli-Z expectation:  [-0.8086572  -0.78022041  0.69692493  0.90584106]\n",
      "observed:  [1, 1, 0, 0] \n",
      "\n"
     ]
    }
   ],
   "source": [
    "def observe(zvals):\n",
    "    # maps Pauli-Z expectation value to the mosly likely observed classical bit (0 or 1)\n",
    "    obs = []\n",
    "    for val in zvals:\n",
    "        if val < 0: obs.append(1)\n",
    "        else: obs.append(0)\n",
    "    return obs\n",
    "\n",
    "array_pauliz = []\n",
    "for i in range(4):\n",
    "    angles = x[i]\n",
    "    print (\"input angles\")\n",
    "    print (angles)\n",
    "    out = circuit(params, angles)\n",
    "    print (\"Pauli-Z expectation: \", out.detach().numpy())\n",
    "    print (\"observed: \", observe(out.detach().numpy()), \"\\n\")\n",
    "    array_pauliz.append(out.detach().numpy())"
   ]
  },
  {
   "cell_type": "markdown",
   "metadata": {},
   "source": [
    "### What happens if you provide a different state?\n",
    "We test a few linear combination of our prepared initial states and use them as input. We print out the circuit output (i.e. the Pauli-Z expectation value of all the qubits), as well as the most likely observed classical bit."
   ]
  },
  {
   "cell_type": "code",
   "execution_count": 22,
   "metadata": {},
   "outputs": [
    {
     "name": "stdout",
     "output_type": "stream",
     "text": [
      "Pauli-Z expectation of current output:  [-0.52542141 -0.58272292  0.24538714 -0.54025831]\n",
      "Observed:  [1, 1, 0, 1] \n",
      "\n",
      "Pauli-Z expectation of x[0] output:  [ 0.95388904  0.96402192 -0.91100587 -0.9137813 ]\n",
      "Pauli-Z expectation of x[1] output:  [ 0.96975936 -0.98131208  0.93156533 -0.96714859]\n"
     ]
    }
   ],
   "source": [
    "angles = 0.1*x[0]\n",
    "out = circuit(params, angles)\n",
    "\n",
    "print (\"Pauli-Z expectation of current output: \", out.detach().numpy())\n",
    "print (\"Observed: \", observe(out.detach().numpy()), \"\\n\")\n",
    "\n",
    "print (\"Pauli-Z expectation of x[0] output: \", array_pauliz[0])\n",
    "print (\"Pauli-Z expectation of x[1] output: \", array_pauliz[1])"
   ]
  },
  {
   "cell_type": "code",
   "execution_count": 23,
   "metadata": {},
   "outputs": [
    {
     "name": "stdout",
     "output_type": "stream",
     "text": [
      "Pauli-Z expectation of current output:  [ 0.15710992 -0.32040668  0.16260218 -0.21686231]\n",
      "Observed:  [0, 1, 0, 1] \n",
      "\n",
      "Pauli-Z expectation of x[0] output:  [ 0.95388904  0.96402192 -0.91100587 -0.9137813 ]\n",
      "Pauli-Z expectation of x[1] output:  [ 0.96975936 -0.98131208  0.93156533 -0.96714859]\n"
     ]
    }
   ],
   "source": [
    "angles = 0.5*x[0] + 0.5*x[1]\n",
    "out = circuit(params, angles)\n",
    "\n",
    "print (\"Pauli-Z expectation of current output: \", out.detach().numpy())\n",
    "print (\"Observed: \", observe(out.detach().numpy()), \"\\n\")\n",
    "\n",
    "print (\"Pauli-Z expectation of x[0] output: \", array_pauliz[0])\n",
    "print (\"Pauli-Z expectation of x[1] output: \", array_pauliz[1])"
   ]
  },
  {
   "cell_type": "code",
   "execution_count": 25,
   "metadata": {},
   "outputs": [
    {
     "name": "stdout",
     "output_type": "stream",
     "text": [
      "Pauli-Z expectation of current output:  [ 0.44296027 -0.48294394  0.47832751 -0.44147202]\n",
      "Observed:  [0, 1, 0, 1] \n",
      "\n",
      "Pauli-Z expectation of x[0] output:  [ 0.95388904  0.96402192 -0.91100587 -0.9137813 ]\n",
      "Pauli-Z expectation of x[1] output:  [ 0.96975936 -0.98131208  0.93156533 -0.96714859]\n"
     ]
    }
   ],
   "source": [
    "angles = 0.1*x[0] + 0.9*x[1]\n",
    "out = circuit(params, angles)\n",
    "\n",
    "print (\"Pauli-Z expectation of current output: \", out.detach().numpy())\n",
    "print (\"Observed: \", observe(out.detach().numpy()), \"\\n\")\n",
    "\n",
    "print (\"Pauli-Z expectation of x[0] output: \", array_pauliz[0])\n",
    "print (\"Pauli-Z expectation of x[1] output: \", array_pauliz[1])"
   ]
  },
  {
   "cell_type": "code",
   "execution_count": 27,
   "metadata": {},
   "outputs": [
    {
     "name": "stdout",
     "output_type": "stream",
     "text": [
      "Pauli-Z expectation of current output:  [ 0.33370976 -0.59459027  0.04402962  0.20335267]\n",
      "Observed:  [0, 1, 0, 0] \n",
      "\n",
      "Pauli-Z expectation of x[2] output:  [-0.96153854  0.82178274 -0.83231441  0.88203637]\n",
      "Pauli-Z expectation of x[3] output:  [-0.8086572  -0.78022041  0.69692493  0.90584106]\n"
     ]
    }
   ],
   "source": [
    "angles = 0.5*x[2] + 0.5*x[3]\n",
    "out = circuit(params, angles)\n",
    "\n",
    "print (\"Pauli-Z expectation of current output: \", out.detach().numpy())\n",
    "print (\"Observed: \", observe(out.detach().numpy()), \"\\n\")\n",
    "\n",
    "print (\"Pauli-Z expectation of x[2] output: \", array_pauliz[2])\n",
    "print (\"Pauli-Z expectation of x[3] output: \", array_pauliz[3])"
   ]
  },
  {
   "cell_type": "code",
   "execution_count": 28,
   "metadata": {},
   "outputs": [
    {
     "name": "stdout",
     "output_type": "stream",
     "text": [
      "Pauli-Z expectation of current output:  [-0.74129708 -0.60814985  0.83410568  0.6973473 ]\n",
      "Observed:  [1, 1, 0, 0] \n",
      "\n",
      "Pauli-Z expectation of x[2] output:  [-0.96153854  0.82178274 -0.83231441  0.88203637]\n",
      "Pauli-Z expectation of x[3] output:  [-0.8086572  -0.78022041  0.69692493  0.90584106]\n"
     ]
    }
   ],
   "source": [
    "angles = 0.1*x[2] + 0.9*x[3]\n",
    "out = circuit(params, angles)\n",
    "\n",
    "print (\"Pauli-Z expectation of current output: \", out.detach().numpy())\n",
    "print (\"Observed: \", observe(out.detach().numpy()), \"\\n\")\n",
    "\n",
    "print (\"Pauli-Z expectation of x[2] output: \", array_pauliz[2])\n",
    "print (\"Pauli-Z expectation of x[3] output: \", array_pauliz[3])"
   ]
  },
  {
   "cell_type": "markdown",
   "metadata": {},
   "source": [
    "In general, the output can vary does not linearly interpolate. But given two very similar input state (for example, defined by rotation angle vectors that are 90%), the observed classical bit of the output will likely be the same."
   ]
  },
  {
   "cell_type": "code",
   "execution_count": null,
   "metadata": {},
   "outputs": [],
   "source": []
  }
 ],
 "metadata": {
  "kernelspec": {
   "display_name": "Python 3",
   "language": "python",
   "name": "python3"
  },
  "language_info": {
   "codemirror_mode": {
    "name": "ipython",
    "version": 3
   },
   "file_extension": ".py",
   "mimetype": "text/x-python",
   "name": "python",
   "nbconvert_exporter": "python",
   "pygments_lexer": "ipython3",
   "version": "3.7.4"
  }
 },
 "nbformat": 4,
 "nbformat_minor": 2
}
